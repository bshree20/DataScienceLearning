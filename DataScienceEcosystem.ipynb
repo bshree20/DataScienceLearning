{
 "cells": [
  {
   "cell_type": "markdown",
   "id": "edf4958b-6d82-4e43-ac6b-7dd1f65f5448",
   "metadata": {
    "tags": []
   },
   "source": [
    "## Exercise1:Create a jupyter Notebook DataScienceEcosystem.ipynb"
   ]
  },
  {
   "cell_type": "markdown",
   "id": "14facc4e-7815-4018-aa98-d27c6d7f5ec4",
   "metadata": {
    "jp-MarkdownHeadingCollapsed": true,
    "tags": []
   },
   "source": [
    "## Exercise 2: Create markdown cell with the title of the notebook"
   ]
  },
  {
   "cell_type": "markdown",
   "id": "e6af698d-243b-41bf-9e61-258b30e95b0f",
   "metadata": {
    "tags": []
   },
   "source": [
    "# Data Science Tools and Ecosystem"
   ]
  },
  {
   "cell_type": "markdown",
   "id": "2e502ef2-5fe2-49f1-9f4e-450dd60c49a6",
   "metadata": {
    "jp-MarkdownHeadingCollapsed": true,
    "tags": []
   },
   "source": [
    "## Exercise 3 : Create a markdown cell for an introduction."
   ]
  },
  {
   "cell_type": "markdown",
   "id": "0dfa3f42-15cf-4482-b034-3ee721e66adf",
   "metadata": {
    "tags": []
   },
   "source": [
    "# In this notebook ,Data Science Tools and Ecosystem are summerized."
   ]
  },
  {
   "cell_type": "markdown",
   "id": "a20cf95f-2f9a-4cb4-b097-00c453f7e10e",
   "metadata": {},
   "source": [
    "## Exercise 4 : Create a markdown cell to list data science languages"
   ]
  },
  {
   "cell_type": "markdown",
   "id": "efc62bb3-6350-418c-a91e-0709b7001118",
   "metadata": {
    "tags": []
   },
   "source": [
    "<h1>Some of the popular languages that Data Scientist use are:</h1>\n",
    "<ol>\n",
    "<li>Python</li>\n",
    "<li>R Language</li>\n",
    "<li>SQL</li>\n",
    "<li>Java</li>\n",
    "<li>Julia</li>\n",
    "</ol>"
   ]
  },
  {
   "cell_type": "markdown",
   "id": "8721f10c-ec14-4849-b193-ae6c8f0113bd",
   "metadata": {
    "tags": []
   },
   "source": [
    "## Exercise 5 :Create a markdown cell to the list Data Science Libraries."
   ]
  },
  {
   "cell_type": "markdown",
   "id": "dc58910f-db53-48d7-9cd8-28d698bc6202",
   "metadata": {
    "tags": []
   },
   "source": [
    "### Some of the commonly used libraries used by Data Scientist inculde:\n",
    "<ul>\n",
    "<li>Numpy</li>\n",
    "<li>Pandas</li>\n",
    "<li>Matplotlib</li>\n",
    "<li>TensorFlow</li>\n",
    "<li>SciPy</li>\n",
    "</ul>"
   ]
  },
  {
   "cell_type": "markdown",
   "id": "827406dd-da2a-402b-8539-1918348644fb",
   "metadata": {
    "tags": []
   },
   "source": [
    "## Exercise 6 : Create a markdown cell with a table of data science tools"
   ]
  },
  {
   "cell_type": "markdown",
   "id": "a295a3af-3617-4e35-910a-9a4e429bfdad",
   "metadata": {},
   "source": [
    "|**Data Science Tools**|\n",
    "|:----------------|\n",
    "|1.SAS. It is one of those data science tools which are specially designed for statistical operation.|   \n",
    "|2.Apache Spark    |\n",
    "|3.Big Ml          | \n",
    "                 \n"
   ]
  },
  {
   "cell_type": "markdown",
   "id": "670f4642-1a0b-4630-8fbd-a63d607d3db8",
   "metadata": {
    "tags": []
   },
   "source": [
    "## Exercise 7 : Create a markdown cell introducing arithmetic expression example"
   ]
  },
  {
   "cell_type": "markdown",
   "id": "bd5ebaa7-b829-4cf6-8d99-d2568e956c0e",
   "metadata": {},
   "source": [
    "### Below are a few examples of evaluating arithemetic expressions in python."
   ]
  },
  {
   "cell_type": "code",
   "execution_count": 1,
   "id": "956a1223-1529-4d1b-8dcd-d840fab6bb52",
   "metadata": {},
   "outputs": [
    {
     "data": {
      "text/plain": [
       "7"
      ]
     },
     "execution_count": 1,
     "metadata": {},
     "output_type": "execute_result"
    }
   ],
   "source": [
    "(3+4)"
   ]
  },
  {
   "cell_type": "code",
   "execution_count": 1,
   "id": "3dfa2a13-20bf-45cb-9fdf-e3f9c7522725",
   "metadata": {},
   "outputs": [
    {
     "data": {
      "text/plain": [
       "54"
      ]
     },
     "execution_count": 1,
     "metadata": {},
     "output_type": "execute_result"
    }
   ],
   "source": [
    "(34+20)"
   ]
  },
  {
   "cell_type": "markdown",
   "id": "5a8f90ed-39df-48c7-a053-a4ff05513694",
   "metadata": {
    "tags": []
   },
   "source": [
    "## Exercise 8 :Create a code cell to multiply and add numbers"
   ]
  },
  {
   "cell_type": "markdown",
   "id": "b81fd182-0f55-45fa-84f6-4027df5759fa",
   "metadata": {
    "tags": []
   },
   "source": [
    "### This a simple arithmetic expression to multiply then add integers"
   ]
  },
  {
   "cell_type": "code",
   "execution_count": 4,
   "id": "aa7dc6c9-9e62-44b5-91a0-57451802ae74",
   "metadata": {},
   "outputs": [
    {
     "data": {
      "text/plain": [
       "17"
      ]
     },
     "execution_count": 4,
     "metadata": {},
     "output_type": "execute_result"
    }
   ],
   "source": [
    "(3*4)+5"
   ]
  },
  {
   "cell_type": "markdown",
   "id": "4419d723-388d-47fb-9c45-1f73d997797c",
   "metadata": {
    "tags": []
   },
   "source": [
    "## Exercise 9:Create a code to convert minutes to hours"
   ]
  },
  {
   "cell_type": "markdown",
   "id": "7a4bf356-aa95-47df-a563-354521c3a513",
   "metadata": {},
   "source": [
    "### This will convert 200 minutes to hour by diving by 60."
   ]
  },
  {
   "cell_type": "code",
   "execution_count": 17,
   "id": "8c42a53e-f547-40a0-9989-b4e26da5bd70",
   "metadata": {
    "tags": []
   },
   "outputs": [],
   "source": [
    "min = 200 \n",
    "h = min//60\n",
    "m = min%60"
   ]
  },
  {
   "cell_type": "code",
   "execution_count": 18,
   "id": "8e9d1ed9-7558-475f-9008-11348fc6d657",
   "metadata": {
    "tags": []
   },
   "outputs": [
    {
     "name": "stdout",
     "output_type": "stream",
     "text": [
      "Hours= 3\n",
      "minutes= 20\n"
     ]
    }
   ],
   "source": [
    "print(\"Hours=\",h)\n",
    "print(\"minutes=\",m)"
   ]
  },
  {
   "cell_type": "markdown",
   "id": "d6ea8a13-5384-44a7-892c-2a69d1f20cb2",
   "metadata": {
    "tags": []
   },
   "source": [
    "## Exercise 10 : Insert a markdown cell to list the objective"
   ]
  },
  {
   "cell_type": "markdown",
   "id": "b2860d48-c741-424b-b7f6-ae55cd25cd59",
   "metadata": {
    "tags": []
   },
   "source": [
    "## **Objectives :** List the popular languages for Data Science."
   ]
  },
  {
   "cell_type": "markdown",
   "id": "0edfd510-441d-4981-b9d8-68283220292f",
   "metadata": {},
   "source": [
    "<ul>\n",
    "<li>Python</li>\n",
    "<li>R language</li>\n",
    "<li> SQL </li>\n",
    "</ul>"
   ]
  },
  {
   "cell_type": "markdown",
   "id": "f23dd17a-bd48-4ebd-a266-dc13c7730e9a",
   "metadata": {
    "tags": []
   },
   "source": [
    "## Exercise 11 : Create a markdown cell to indicate the Author's name "
   ]
  },
  {
   "cell_type": "markdown",
   "id": "3a279752-80fd-4841-a1cf-aa574085dbbb",
   "metadata": {},
   "source": [
    "## Author"
   ]
  },
  {
   "cell_type": "markdown",
   "id": "76073369-d512-4033-ab83-420b39351020",
   "metadata": {},
   "source": [
    "Bhagyashree Mahajan"
   ]
  }
 ],
 "metadata": {
  "kernelspec": {
   "display_name": "Python 3 (ipykernel)",
   "language": "python",
   "name": "python3"
  },
  "language_info": {
   "codemirror_mode": {
    "name": "ipython",
    "version": 3
   },
   "file_extension": ".py",
   "mimetype": "text/x-python",
   "name": "python",
   "nbconvert_exporter": "python",
   "pygments_lexer": "ipython3",
   "version": "3.11.3"
  }
 },
 "nbformat": 4,
 "nbformat_minor": 5
}
